{
 "cells": [
  {
   "cell_type": "markdown",
   "id": "92cb604a",
   "metadata": {},
   "source": [
    "# 🛒 Exploratory Data Analysis (EDA): E-commerce Customer Behavior\n",
    "\n",
    "This notebook provides a step-by-step EDA of the cleaned E-commerce Customer Behavior dataset. We'll explore the structure, quality, and key patterns in the data to gain actionable insights."
   ]
  },
  {
   "cell_type": "markdown",
   "id": "d8a385df",
   "metadata": {},
   "source": [
    "## 1. Import Libraries and Load Data\n",
    "\n",
    "We'll import pandas, seaborn, and matplotlib, then load the cleaned dataset."
   ]
  },
  {
   "cell_type": "code",
   "execution_count": 1,
   "id": "7970ceea",
   "metadata": {},
   "outputs": [
    {
     "data": {
      "application/vnd.microsoft.datawrangler.viewer.v0+json": {
       "columns": [
        {
         "name": "index",
         "rawType": "int64",
         "type": "integer"
        },
        {
         "name": "Customer ID",
         "rawType": "int64",
         "type": "integer"
        },
        {
         "name": "Gender",
         "rawType": "object",
         "type": "string"
        },
        {
         "name": "Age",
         "rawType": "int64",
         "type": "integer"
        },
        {
         "name": "City",
         "rawType": "object",
         "type": "string"
        },
        {
         "name": "Membership Type",
         "rawType": "object",
         "type": "string"
        },
        {
         "name": "Total Spend",
         "rawType": "float64",
         "type": "float"
        },
        {
         "name": "Items Purchased",
         "rawType": "int64",
         "type": "integer"
        },
        {
         "name": "Average Rating",
         "rawType": "float64",
         "type": "float"
        },
        {
         "name": "Discount Applied",
         "rawType": "bool",
         "type": "boolean"
        },
        {
         "name": "Days Since Last Purchase",
         "rawType": "int64",
         "type": "integer"
        },
        {
         "name": "Satisfaction Level",
         "rawType": "object",
         "type": "string"
        }
       ],
       "ref": "8bc1f32a-c6da-4954-97d5-96fca4d86e45",
       "rows": [
        [
         "0",
         "101",
         "Female",
         "29",
         "New York",
         "Gold",
         "1120.2",
         "14",
         "4.6",
         "True",
         "25",
         "Satisfied"
        ],
        [
         "1",
         "102",
         "Male",
         "34",
         "Los Angeles",
         "Silver",
         "780.5",
         "11",
         "4.1",
         "False",
         "18",
         "Neutral"
        ],
        [
         "2",
         "103",
         "Female",
         "43",
         "Chicago",
         "Bronze",
         "510.75",
         "9",
         "3.4",
         "True",
         "42",
         "Unsatisfied"
        ],
        [
         "3",
         "104",
         "Male",
         "30",
         "San Francisco",
         "Gold",
         "1480.3",
         "19",
         "4.7",
         "False",
         "12",
         "Satisfied"
        ],
        [
         "4",
         "105",
         "Male",
         "27",
         "Miami",
         "Silver",
         "720.4",
         "13",
         "4.0",
         "True",
         "55",
         "Unsatisfied"
        ],
        [
         "5",
         "106",
         "Female",
         "37",
         "Houston",
         "Bronze",
         "440.8",
         "8",
         "3.1",
         "False",
         "22",
         "Neutral"
        ],
        [
         "6",
         "107",
         "Female",
         "31",
         "New York",
         "Gold",
         "1150.6",
         "15",
         "4.5",
         "True",
         "28",
         "Satisfied"
        ],
        [
         "7",
         "108",
         "Male",
         "35",
         "Los Angeles",
         "Silver",
         "800.9",
         "12",
         "4.2",
         "False",
         "14",
         "Neutral"
        ],
        [
         "8",
         "109",
         "Female",
         "41",
         "Chicago",
         "Bronze",
         "495.25",
         "10",
         "3.6",
         "True",
         "40",
         "Unsatisfied"
        ],
        [
         "9",
         "110",
         "Male",
         "28",
         "San Francisco",
         "Gold",
         "1520.1",
         "21",
         "4.8",
         "False",
         "9",
         "Satisfied"
        ],
        [
         "10",
         "111",
         "Male",
         "32",
         "Miami",
         "Silver",
         "690.3",
         "11",
         "3.8",
         "True",
         "34",
         "Unsatisfied"
        ],
        [
         "11",
         "112",
         "Female",
         "36",
         "Houston",
         "Bronze",
         "470.5",
         "7",
         "3.2",
         "False",
         "20",
         "Neutral"
        ],
        [
         "12",
         "113",
         "Female",
         "30",
         "New York",
         "Gold",
         "1200.8",
         "16",
         "4.3",
         "True",
         "21",
         "Satisfied"
        ],
        [
         "13",
         "114",
         "Male",
         "33",
         "Los Angeles",
         "Silver",
         "820.75",
         "13",
         "4.4",
         "False",
         "15",
         "Satisfied"
        ],
        [
         "14",
         "115",
         "Female",
         "42",
         "Chicago",
         "Bronze",
         "530.4",
         "9",
         "3.5",
         "True",
         "38",
         "Unsatisfied"
        ],
        [
         "15",
         "116",
         "Male",
         "29",
         "San Francisco",
         "Gold",
         "1360.2",
         "18",
         "4.9",
         "False",
         "11",
         "Satisfied"
        ],
        [
         "16",
         "117",
         "Male",
         "26",
         "Miami",
         "Silver",
         "700.6",
         "12",
         "3.7",
         "True",
         "48",
         "Unsatisfied"
        ],
        [
         "17",
         "118",
         "Female",
         "38",
         "Houston",
         "Bronze",
         "450.9",
         "8",
         "3.0",
         "False",
         "25",
         "Neutral"
        ],
        [
         "18",
         "119",
         "Female",
         "32",
         "New York",
         "Gold",
         "1170.3",
         "14",
         "4.7",
         "True",
         "29",
         "Satisfied"
        ],
        [
         "19",
         "120",
         "Male",
         "34",
         "Los Angeles",
         "Silver",
         "790.2",
         "11",
         "4.0",
         "False",
         "16",
         "Neutral"
        ],
        [
         "20",
         "121",
         "Female",
         "43",
         "Chicago",
         "Bronze",
         "505.75",
         "10",
         "3.3",
         "True",
         "41",
         "Unsatisfied"
        ],
        [
         "21",
         "122",
         "Male",
         "30",
         "San Francisco",
         "Gold",
         "1470.5",
         "20",
         "4.8",
         "False",
         "13",
         "Satisfied"
        ],
        [
         "22",
         "123",
         "Male",
         "27",
         "Miami",
         "Silver",
         "710.4",
         "13",
         "4.1",
         "True",
         "54",
         "Unsatisfied"
        ],
        [
         "23",
         "124",
         "Female",
         "37",
         "Houston",
         "Bronze",
         "430.8",
         "7",
         "3.4",
         "False",
         "23",
         "Neutral"
        ],
        [
         "24",
         "125",
         "Female",
         "31",
         "New York",
         "Gold",
         "1140.6",
         "15",
         "4.6",
         "True",
         "27",
         "Satisfied"
        ],
        [
         "25",
         "126",
         "Male",
         "35",
         "Los Angeles",
         "Silver",
         "810.9",
         "12",
         "4.3",
         "False",
         "13",
         "Neutral"
        ],
        [
         "26",
         "127",
         "Female",
         "41",
         "Chicago",
         "Bronze",
         "485.25",
         "9",
         "3.6",
         "True",
         "39",
         "Unsatisfied"
        ],
        [
         "27",
         "128",
         "Male",
         "28",
         "San Francisco",
         "Gold",
         "1500.1",
         "21",
         "4.9",
         "False",
         "10",
         "Satisfied"
        ],
        [
         "28",
         "129",
         "Male",
         "32",
         "Miami",
         "Silver",
         "670.3",
         "10",
         "3.8",
         "True",
         "33",
         "Unsatisfied"
        ],
        [
         "29",
         "130",
         "Female",
         "36",
         "Houston",
         "Bronze",
         "460.5",
         "8",
         "3.1",
         "False",
         "19",
         "Neutral"
        ],
        [
         "30",
         "131",
         "Female",
         "30",
         "New York",
         "Gold",
         "1190.8",
         "16",
         "4.5",
         "True",
         "20",
         "Satisfied"
        ],
        [
         "31",
         "132",
         "Male",
         "33",
         "Los Angeles",
         "Silver",
         "830.75",
         "13",
         "4.2",
         "False",
         "14",
         "Satisfied"
        ],
        [
         "32",
         "133",
         "Female",
         "42",
         "Chicago",
         "Bronze",
         "520.4",
         "9",
         "3.5",
         "True",
         "37",
         "Unsatisfied"
        ],
        [
         "33",
         "134",
         "Male",
         "29",
         "San Francisco",
         "Gold",
         "1370.2",
         "18",
         "4.7",
         "False",
         "10",
         "Satisfied"
        ],
        [
         "34",
         "135",
         "Male",
         "26",
         "Miami",
         "Silver",
         "690.6",
         "12",
         "3.9",
         "True",
         "47",
         "Unsatisfied"
        ],
        [
         "35",
         "136",
         "Female",
         "38",
         "Houston",
         "Bronze",
         "440.9",
         "8",
         "3.2",
         "False",
         "24",
         "Neutral"
        ],
        [
         "36",
         "137",
         "Female",
         "32",
         "New York",
         "Gold",
         "1160.3",
         "14",
         "4.4",
         "True",
         "22",
         "Satisfied"
        ],
        [
         "37",
         "138",
         "Male",
         "34",
         "Los Angeles",
         "Silver",
         "800.2",
         "11",
         "4.1",
         "False",
         "17",
         "Neutral"
        ],
        [
         "38",
         "139",
         "Female",
         "43",
         "Chicago",
         "Bronze",
         "500.75",
         "10",
         "3.3",
         "True",
         "40",
         "Unsatisfied"
        ],
        [
         "39",
         "140",
         "Male",
         "30",
         "San Francisco",
         "Gold",
         "1460.5",
         "20",
         "4.8",
         "False",
         "12",
         "Satisfied"
        ],
        [
         "40",
         "141",
         "Male",
         "27",
         "Miami",
         "Silver",
         "700.4",
         "13",
         "4.0",
         "True",
         "53",
         "Unsatisfied"
        ],
        [
         "41",
         "142",
         "Female",
         "37",
         "Houston",
         "Bronze",
         "420.8",
         "7",
         "3.1",
         "False",
         "21",
         "Neutral"
        ],
        [
         "42",
         "143",
         "Female",
         "31",
         "New York",
         "Gold",
         "1130.6",
         "15",
         "4.5",
         "True",
         "26",
         "Satisfied"
        ],
        [
         "43",
         "144",
         "Male",
         "35",
         "Los Angeles",
         "Silver",
         "820.9",
         "12",
         "4.3",
         "False",
         "12",
         "Neutral"
        ],
        [
         "44",
         "145",
         "Female",
         "41",
         "Chicago",
         "Bronze",
         "480.25",
         "9",
         "3.6",
         "True",
         "38",
         "Unsatisfied"
        ],
        [
         "45",
         "146",
         "Male",
         "28",
         "San Francisco",
         "Gold",
         "1490.1",
         "21",
         "4.9",
         "False",
         "9",
         "Satisfied"
        ],
        [
         "46",
         "147",
         "Male",
         "32",
         "Miami",
         "Silver",
         "680.3",
         "10",
         "3.8",
         "True",
         "32",
         "Unsatisfied"
        ],
        [
         "47",
         "148",
         "Female",
         "36",
         "Houston",
         "Bronze",
         "470.5",
         "8",
         "3.0",
         "False",
         "18",
         "Neutral"
        ],
        [
         "48",
         "149",
         "Female",
         "30",
         "New York",
         "Gold",
         "1180.8",
         "16",
         "4.7",
         "True",
         "19",
         "Satisfied"
        ],
        [
         "49",
         "150",
         "Male",
         "34",
         "Los Angeles",
         "Silver",
         "790.2",
         "11",
         "4.0",
         "False",
         "15",
         "Neutral"
        ]
       ],
       "shape": {
        "columns": 11,
        "rows": 348
       }
      },
      "text/html": [
       "<div>\n",
       "<style scoped>\n",
       "    .dataframe tbody tr th:only-of-type {\n",
       "        vertical-align: middle;\n",
       "    }\n",
       "\n",
       "    .dataframe tbody tr th {\n",
       "        vertical-align: top;\n",
       "    }\n",
       "\n",
       "    .dataframe thead th {\n",
       "        text-align: right;\n",
       "    }\n",
       "</style>\n",
       "<table border=\"1\" class=\"dataframe\">\n",
       "  <thead>\n",
       "    <tr style=\"text-align: right;\">\n",
       "      <th></th>\n",
       "      <th>Customer ID</th>\n",
       "      <th>Gender</th>\n",
       "      <th>Age</th>\n",
       "      <th>City</th>\n",
       "      <th>Membership Type</th>\n",
       "      <th>Total Spend</th>\n",
       "      <th>Items Purchased</th>\n",
       "      <th>Average Rating</th>\n",
       "      <th>Discount Applied</th>\n",
       "      <th>Days Since Last Purchase</th>\n",
       "      <th>Satisfaction Level</th>\n",
       "    </tr>\n",
       "  </thead>\n",
       "  <tbody>\n",
       "    <tr>\n",
       "      <th>0</th>\n",
       "      <td>101</td>\n",
       "      <td>Female</td>\n",
       "      <td>29</td>\n",
       "      <td>New York</td>\n",
       "      <td>Gold</td>\n",
       "      <td>1120.20</td>\n",
       "      <td>14</td>\n",
       "      <td>4.6</td>\n",
       "      <td>True</td>\n",
       "      <td>25</td>\n",
       "      <td>Satisfied</td>\n",
       "    </tr>\n",
       "    <tr>\n",
       "      <th>1</th>\n",
       "      <td>102</td>\n",
       "      <td>Male</td>\n",
       "      <td>34</td>\n",
       "      <td>Los Angeles</td>\n",
       "      <td>Silver</td>\n",
       "      <td>780.50</td>\n",
       "      <td>11</td>\n",
       "      <td>4.1</td>\n",
       "      <td>False</td>\n",
       "      <td>18</td>\n",
       "      <td>Neutral</td>\n",
       "    </tr>\n",
       "    <tr>\n",
       "      <th>2</th>\n",
       "      <td>103</td>\n",
       "      <td>Female</td>\n",
       "      <td>43</td>\n",
       "      <td>Chicago</td>\n",
       "      <td>Bronze</td>\n",
       "      <td>510.75</td>\n",
       "      <td>9</td>\n",
       "      <td>3.4</td>\n",
       "      <td>True</td>\n",
       "      <td>42</td>\n",
       "      <td>Unsatisfied</td>\n",
       "    </tr>\n",
       "    <tr>\n",
       "      <th>3</th>\n",
       "      <td>104</td>\n",
       "      <td>Male</td>\n",
       "      <td>30</td>\n",
       "      <td>San Francisco</td>\n",
       "      <td>Gold</td>\n",
       "      <td>1480.30</td>\n",
       "      <td>19</td>\n",
       "      <td>4.7</td>\n",
       "      <td>False</td>\n",
       "      <td>12</td>\n",
       "      <td>Satisfied</td>\n",
       "    </tr>\n",
       "    <tr>\n",
       "      <th>4</th>\n",
       "      <td>105</td>\n",
       "      <td>Male</td>\n",
       "      <td>27</td>\n",
       "      <td>Miami</td>\n",
       "      <td>Silver</td>\n",
       "      <td>720.40</td>\n",
       "      <td>13</td>\n",
       "      <td>4.0</td>\n",
       "      <td>True</td>\n",
       "      <td>55</td>\n",
       "      <td>Unsatisfied</td>\n",
       "    </tr>\n",
       "    <tr>\n",
       "      <th>...</th>\n",
       "      <td>...</td>\n",
       "      <td>...</td>\n",
       "      <td>...</td>\n",
       "      <td>...</td>\n",
       "      <td>...</td>\n",
       "      <td>...</td>\n",
       "      <td>...</td>\n",
       "      <td>...</td>\n",
       "      <td>...</td>\n",
       "      <td>...</td>\n",
       "      <td>...</td>\n",
       "    </tr>\n",
       "    <tr>\n",
       "      <th>343</th>\n",
       "      <td>446</td>\n",
       "      <td>Male</td>\n",
       "      <td>32</td>\n",
       "      <td>Miami</td>\n",
       "      <td>Silver</td>\n",
       "      <td>660.30</td>\n",
       "      <td>10</td>\n",
       "      <td>3.8</td>\n",
       "      <td>True</td>\n",
       "      <td>42</td>\n",
       "      <td>Unsatisfied</td>\n",
       "    </tr>\n",
       "    <tr>\n",
       "      <th>344</th>\n",
       "      <td>447</td>\n",
       "      <td>Female</td>\n",
       "      <td>36</td>\n",
       "      <td>Houston</td>\n",
       "      <td>Bronze</td>\n",
       "      <td>470.50</td>\n",
       "      <td>8</td>\n",
       "      <td>3.0</td>\n",
       "      <td>False</td>\n",
       "      <td>27</td>\n",
       "      <td>Neutral</td>\n",
       "    </tr>\n",
       "    <tr>\n",
       "      <th>345</th>\n",
       "      <td>448</td>\n",
       "      <td>Female</td>\n",
       "      <td>30</td>\n",
       "      <td>New York</td>\n",
       "      <td>Gold</td>\n",
       "      <td>1190.80</td>\n",
       "      <td>16</td>\n",
       "      <td>4.5</td>\n",
       "      <td>True</td>\n",
       "      <td>28</td>\n",
       "      <td>Satisfied</td>\n",
       "    </tr>\n",
       "    <tr>\n",
       "      <th>346</th>\n",
       "      <td>449</td>\n",
       "      <td>Male</td>\n",
       "      <td>34</td>\n",
       "      <td>Los Angeles</td>\n",
       "      <td>Silver</td>\n",
       "      <td>780.20</td>\n",
       "      <td>11</td>\n",
       "      <td>4.2</td>\n",
       "      <td>False</td>\n",
       "      <td>21</td>\n",
       "      <td>Neutral</td>\n",
       "    </tr>\n",
       "    <tr>\n",
       "      <th>347</th>\n",
       "      <td>450</td>\n",
       "      <td>Female</td>\n",
       "      <td>43</td>\n",
       "      <td>Chicago</td>\n",
       "      <td>Bronze</td>\n",
       "      <td>515.75</td>\n",
       "      <td>10</td>\n",
       "      <td>3.3</td>\n",
       "      <td>True</td>\n",
       "      <td>49</td>\n",
       "      <td>Unsatisfied</td>\n",
       "    </tr>\n",
       "  </tbody>\n",
       "</table>\n",
       "<p>348 rows × 11 columns</p>\n",
       "</div>"
      ],
      "text/plain": [
       "     Customer ID  Gender  Age           City Membership Type  Total Spend  \\\n",
       "0            101  Female   29       New York            Gold      1120.20   \n",
       "1            102    Male   34    Los Angeles          Silver       780.50   \n",
       "2            103  Female   43        Chicago          Bronze       510.75   \n",
       "3            104    Male   30  San Francisco            Gold      1480.30   \n",
       "4            105    Male   27          Miami          Silver       720.40   \n",
       "..           ...     ...  ...            ...             ...          ...   \n",
       "343          446    Male   32          Miami          Silver       660.30   \n",
       "344          447  Female   36        Houston          Bronze       470.50   \n",
       "345          448  Female   30       New York            Gold      1190.80   \n",
       "346          449    Male   34    Los Angeles          Silver       780.20   \n",
       "347          450  Female   43        Chicago          Bronze       515.75   \n",
       "\n",
       "     Items Purchased  Average Rating  Discount Applied  \\\n",
       "0                 14             4.6              True   \n",
       "1                 11             4.1             False   \n",
       "2                  9             3.4              True   \n",
       "3                 19             4.7             False   \n",
       "4                 13             4.0              True   \n",
       "..               ...             ...               ...   \n",
       "343               10             3.8              True   \n",
       "344                8             3.0             False   \n",
       "345               16             4.5              True   \n",
       "346               11             4.2             False   \n",
       "347               10             3.3              True   \n",
       "\n",
       "     Days Since Last Purchase Satisfaction Level  \n",
       "0                          25          Satisfied  \n",
       "1                          18            Neutral  \n",
       "2                          42        Unsatisfied  \n",
       "3                          12          Satisfied  \n",
       "4                          55        Unsatisfied  \n",
       "..                        ...                ...  \n",
       "343                        42        Unsatisfied  \n",
       "344                        27            Neutral  \n",
       "345                        28          Satisfied  \n",
       "346                        21            Neutral  \n",
       "347                        49        Unsatisfied  \n",
       "\n",
       "[348 rows x 11 columns]"
      ]
     },
     "execution_count": 1,
     "metadata": {},
     "output_type": "execute_result"
    }
   ],
   "source": [
    "import pandas as pd\n",
    "import seaborn as sns\n",
    "import matplotlib.pyplot as plt\n",
    "\n",
    "# Load the cleaned dataset\n",
    "df = pd.read_csv(r\"C:\\Users\\HP\\Desktop\\Task 5\\E-commerce Customer Behavior - Cleaned Version.csv\")\n",
    "\n",
    "df"
   ]
  },
  {
   "cell_type": "markdown",
   "id": "cdf5405f",
   "metadata": {},
   "source": [
    "## 2. Display Dataset Head and Shape\n",
    "\n",
    "Let's view the first few rows and check the shape of the DataFrame."
   ]
  },
  {
   "cell_type": "code",
   "execution_count": 2,
   "id": "809344d3",
   "metadata": {},
   "outputs": [
    {
     "data": {
      "application/vnd.microsoft.datawrangler.viewer.v0+json": {
       "columns": [
        {
         "name": "index",
         "rawType": "int64",
         "type": "integer"
        },
        {
         "name": "Customer ID",
         "rawType": "int64",
         "type": "integer"
        },
        {
         "name": "Gender",
         "rawType": "object",
         "type": "string"
        },
        {
         "name": "Age",
         "rawType": "int64",
         "type": "integer"
        },
        {
         "name": "City",
         "rawType": "object",
         "type": "string"
        },
        {
         "name": "Membership Type",
         "rawType": "object",
         "type": "string"
        },
        {
         "name": "Total Spend",
         "rawType": "float64",
         "type": "float"
        },
        {
         "name": "Items Purchased",
         "rawType": "int64",
         "type": "integer"
        },
        {
         "name": "Average Rating",
         "rawType": "float64",
         "type": "float"
        },
        {
         "name": "Discount Applied",
         "rawType": "bool",
         "type": "boolean"
        },
        {
         "name": "Days Since Last Purchase",
         "rawType": "int64",
         "type": "integer"
        },
        {
         "name": "Satisfaction Level",
         "rawType": "object",
         "type": "string"
        }
       ],
       "ref": "e6d7b564-cd69-492a-9dc8-8aa8617df182",
       "rows": [
        [
         "0",
         "101",
         "Female",
         "29",
         "New York",
         "Gold",
         "1120.2",
         "14",
         "4.6",
         "True",
         "25",
         "Satisfied"
        ],
        [
         "1",
         "102",
         "Male",
         "34",
         "Los Angeles",
         "Silver",
         "780.5",
         "11",
         "4.1",
         "False",
         "18",
         "Neutral"
        ],
        [
         "2",
         "103",
         "Female",
         "43",
         "Chicago",
         "Bronze",
         "510.75",
         "9",
         "3.4",
         "True",
         "42",
         "Unsatisfied"
        ],
        [
         "3",
         "104",
         "Male",
         "30",
         "San Francisco",
         "Gold",
         "1480.3",
         "19",
         "4.7",
         "False",
         "12",
         "Satisfied"
        ],
        [
         "4",
         "105",
         "Male",
         "27",
         "Miami",
         "Silver",
         "720.4",
         "13",
         "4.0",
         "True",
         "55",
         "Unsatisfied"
        ]
       ],
       "shape": {
        "columns": 11,
        "rows": 5
       }
      },
      "text/html": [
       "<div>\n",
       "<style scoped>\n",
       "    .dataframe tbody tr th:only-of-type {\n",
       "        vertical-align: middle;\n",
       "    }\n",
       "\n",
       "    .dataframe tbody tr th {\n",
       "        vertical-align: top;\n",
       "    }\n",
       "\n",
       "    .dataframe thead th {\n",
       "        text-align: right;\n",
       "    }\n",
       "</style>\n",
       "<table border=\"1\" class=\"dataframe\">\n",
       "  <thead>\n",
       "    <tr style=\"text-align: right;\">\n",
       "      <th></th>\n",
       "      <th>Customer ID</th>\n",
       "      <th>Gender</th>\n",
       "      <th>Age</th>\n",
       "      <th>City</th>\n",
       "      <th>Membership Type</th>\n",
       "      <th>Total Spend</th>\n",
       "      <th>Items Purchased</th>\n",
       "      <th>Average Rating</th>\n",
       "      <th>Discount Applied</th>\n",
       "      <th>Days Since Last Purchase</th>\n",
       "      <th>Satisfaction Level</th>\n",
       "    </tr>\n",
       "  </thead>\n",
       "  <tbody>\n",
       "    <tr>\n",
       "      <th>0</th>\n",
       "      <td>101</td>\n",
       "      <td>Female</td>\n",
       "      <td>29</td>\n",
       "      <td>New York</td>\n",
       "      <td>Gold</td>\n",
       "      <td>1120.20</td>\n",
       "      <td>14</td>\n",
       "      <td>4.6</td>\n",
       "      <td>True</td>\n",
       "      <td>25</td>\n",
       "      <td>Satisfied</td>\n",
       "    </tr>\n",
       "    <tr>\n",
       "      <th>1</th>\n",
       "      <td>102</td>\n",
       "      <td>Male</td>\n",
       "      <td>34</td>\n",
       "      <td>Los Angeles</td>\n",
       "      <td>Silver</td>\n",
       "      <td>780.50</td>\n",
       "      <td>11</td>\n",
       "      <td>4.1</td>\n",
       "      <td>False</td>\n",
       "      <td>18</td>\n",
       "      <td>Neutral</td>\n",
       "    </tr>\n",
       "    <tr>\n",
       "      <th>2</th>\n",
       "      <td>103</td>\n",
       "      <td>Female</td>\n",
       "      <td>43</td>\n",
       "      <td>Chicago</td>\n",
       "      <td>Bronze</td>\n",
       "      <td>510.75</td>\n",
       "      <td>9</td>\n",
       "      <td>3.4</td>\n",
       "      <td>True</td>\n",
       "      <td>42</td>\n",
       "      <td>Unsatisfied</td>\n",
       "    </tr>\n",
       "    <tr>\n",
       "      <th>3</th>\n",
       "      <td>104</td>\n",
       "      <td>Male</td>\n",
       "      <td>30</td>\n",
       "      <td>San Francisco</td>\n",
       "      <td>Gold</td>\n",
       "      <td>1480.30</td>\n",
       "      <td>19</td>\n",
       "      <td>4.7</td>\n",
       "      <td>False</td>\n",
       "      <td>12</td>\n",
       "      <td>Satisfied</td>\n",
       "    </tr>\n",
       "    <tr>\n",
       "      <th>4</th>\n",
       "      <td>105</td>\n",
       "      <td>Male</td>\n",
       "      <td>27</td>\n",
       "      <td>Miami</td>\n",
       "      <td>Silver</td>\n",
       "      <td>720.40</td>\n",
       "      <td>13</td>\n",
       "      <td>4.0</td>\n",
       "      <td>True</td>\n",
       "      <td>55</td>\n",
       "      <td>Unsatisfied</td>\n",
       "    </tr>\n",
       "  </tbody>\n",
       "</table>\n",
       "</div>"
      ],
      "text/plain": [
       "   Customer ID  Gender  Age           City Membership Type  Total Spend  \\\n",
       "0          101  Female   29       New York            Gold      1120.20   \n",
       "1          102    Male   34    Los Angeles          Silver       780.50   \n",
       "2          103  Female   43        Chicago          Bronze       510.75   \n",
       "3          104    Male   30  San Francisco            Gold      1480.30   \n",
       "4          105    Male   27          Miami          Silver       720.40   \n",
       "\n",
       "   Items Purchased  Average Rating  Discount Applied  \\\n",
       "0               14             4.6              True   \n",
       "1               11             4.1             False   \n",
       "2                9             3.4              True   \n",
       "3               19             4.7             False   \n",
       "4               13             4.0              True   \n",
       "\n",
       "   Days Since Last Purchase Satisfaction Level  \n",
       "0                        25          Satisfied  \n",
       "1                        18            Neutral  \n",
       "2                        42        Unsatisfied  \n",
       "3                        12          Satisfied  \n",
       "4                        55        Unsatisfied  "
      ]
     },
     "execution_count": 2,
     "metadata": {},
     "output_type": "execute_result"
    }
   ],
   "source": [
    "# Display the first 5 rows\n",
    "df.head()"
   ]
  },
  {
   "cell_type": "code",
   "execution_count": 2,
   "id": "c8335f3f",
   "metadata": {},
   "outputs": [
    {
     "data": {
      "text/plain": [
       "(348, 11)"
      ]
     },
     "execution_count": 2,
     "metadata": {},
     "output_type": "execute_result"
    }
   ],
   "source": [
    "# Show the shape (rows, columns)\n",
    "df.shape"
   ]
  },
  {
   "cell_type": "markdown",
   "id": "ba983e5d",
   "metadata": {},
   "source": [
    "## 3. Check Data Types and Missing Values\n",
    "\n",
    "We'll inspect data types and confirm there are no missing values."
   ]
  },
  {
   "cell_type": "code",
   "execution_count": 3,
   "id": "de97a291",
   "metadata": {},
   "outputs": [
    {
     "name": "stdout",
     "output_type": "stream",
     "text": [
      "<class 'pandas.core.frame.DataFrame'>\n",
      "RangeIndex: 348 entries, 0 to 347\n",
      "Data columns (total 11 columns):\n",
      " #   Column                    Non-Null Count  Dtype  \n",
      "---  ------                    --------------  -----  \n",
      " 0   Customer ID               348 non-null    int64  \n",
      " 1   Gender                    348 non-null    object \n",
      " 2   Age                       348 non-null    int64  \n",
      " 3   City                      348 non-null    object \n",
      " 4   Membership Type           348 non-null    object \n",
      " 5   Total Spend               348 non-null    float64\n",
      " 6   Items Purchased           348 non-null    int64  \n",
      " 7   Average Rating            348 non-null    float64\n",
      " 8   Discount Applied          348 non-null    bool   \n",
      " 9   Days Since Last Purchase  348 non-null    int64  \n",
      " 10  Satisfaction Level        348 non-null    object \n",
      "dtypes: bool(1), float64(2), int64(4), object(4)\n",
      "memory usage: 27.7+ KB\n"
     ]
    }
   ],
   "source": [
    "# Data types and non-null counts\n",
    "df.info()"
   ]
  },
  {
   "cell_type": "code",
   "execution_count": 4,
   "id": "1bf7d145",
   "metadata": {},
   "outputs": [
    {
     "data": {
      "application/vnd.microsoft.datawrangler.viewer.v0+json": {
       "columns": [
        {
         "name": "index",
         "rawType": "object",
         "type": "string"
        },
        {
         "name": "0",
         "rawType": "int64",
         "type": "integer"
        }
       ],
       "ref": "c1af8575-0a7e-402b-a45d-4ac467097de2",
       "rows": [
        [
         "Customer ID",
         "0"
        ],
        [
         "Gender",
         "0"
        ],
        [
         "Age",
         "0"
        ],
        [
         "City",
         "0"
        ],
        [
         "Membership Type",
         "0"
        ],
        [
         "Total Spend",
         "0"
        ],
        [
         "Items Purchased",
         "0"
        ],
        [
         "Average Rating",
         "0"
        ],
        [
         "Discount Applied",
         "0"
        ],
        [
         "Days Since Last Purchase",
         "0"
        ],
        [
         "Satisfaction Level",
         "0"
        ]
       ],
       "shape": {
        "columns": 1,
        "rows": 11
       }
      },
      "text/plain": [
       "Customer ID                 0\n",
       "Gender                      0\n",
       "Age                         0\n",
       "City                        0\n",
       "Membership Type             0\n",
       "Total Spend                 0\n",
       "Items Purchased             0\n",
       "Average Rating              0\n",
       "Discount Applied            0\n",
       "Days Since Last Purchase    0\n",
       "Satisfaction Level          0\n",
       "dtype: int64"
      ]
     },
     "execution_count": 4,
     "metadata": {},
     "output_type": "execute_result"
    }
   ],
   "source": [
    "# Check for missing values in each column\n",
    "df.isnull().sum()"
   ]
  },
  {
   "cell_type": "markdown",
   "id": "e6571e20",
   "metadata": {},
   "source": [
    "## 4. Statistical Summary of Numerical Features\n",
    "\n",
    "Let's get summary statistics for the numerical columns."
   ]
  },
  {
   "cell_type": "code",
   "execution_count": 5,
   "id": "f0630456",
   "metadata": {},
   "outputs": [
    {
     "data": {
      "application/vnd.microsoft.datawrangler.viewer.v0+json": {
       "columns": [
        {
         "name": "index",
         "rawType": "object",
         "type": "string"
        },
        {
         "name": "Customer ID",
         "rawType": "float64",
         "type": "float"
        },
        {
         "name": "Age",
         "rawType": "float64",
         "type": "float"
        },
        {
         "name": "Total Spend",
         "rawType": "float64",
         "type": "float"
        },
        {
         "name": "Items Purchased",
         "rawType": "float64",
         "type": "float"
        },
        {
         "name": "Average Rating",
         "rawType": "float64",
         "type": "float"
        },
        {
         "name": "Days Since Last Purchase",
         "rawType": "float64",
         "type": "float"
        }
       ],
       "ref": "303e4a3b-a016-4251-9448-81add4827bfc",
       "rows": [
        [
         "count",
         "348.0",
         "348.0",
         "348.0",
         "348.0",
         "348.0",
         "348.0"
        ],
        [
         "mean",
         "275.88793103448273",
         "33.577586206896555",
         "847.793103448275",
         "12.632183908045977",
         "4.023563218390797",
         "26.614942528735632"
        ],
        [
         "std",
         "101.30461140521022",
         "4.878023756670823",
         "361.69237541530845",
         "4.146078853153936",
         "0.579144707766292",
         "13.474749819778518"
        ],
        [
         "min",
         "101.0",
         "26.0",
         "410.8",
         "7.0",
         "3.0",
         "9.0"
        ],
        [
         "25%",
         "188.75",
         "30.0",
         "505.75",
         "9.0",
         "3.5",
         "15.0"
        ],
        [
         "50%",
         "276.5",
         "32.0",
         "780.2",
         "12.0",
         "4.1",
         "23.0"
        ],
        [
         "75%",
         "363.25",
         "37.0",
         "1160.6",
         "15.0",
         "4.5",
         "38.0"
        ],
        [
         "max",
         "450.0",
         "43.0",
         "1520.1",
         "21.0",
         "4.9",
         "63.0"
        ]
       ],
       "shape": {
        "columns": 6,
        "rows": 8
       }
      },
      "text/html": [
       "<div>\n",
       "<style scoped>\n",
       "    .dataframe tbody tr th:only-of-type {\n",
       "        vertical-align: middle;\n",
       "    }\n",
       "\n",
       "    .dataframe tbody tr th {\n",
       "        vertical-align: top;\n",
       "    }\n",
       "\n",
       "    .dataframe thead th {\n",
       "        text-align: right;\n",
       "    }\n",
       "</style>\n",
       "<table border=\"1\" class=\"dataframe\">\n",
       "  <thead>\n",
       "    <tr style=\"text-align: right;\">\n",
       "      <th></th>\n",
       "      <th>Customer ID</th>\n",
       "      <th>Age</th>\n",
       "      <th>Total Spend</th>\n",
       "      <th>Items Purchased</th>\n",
       "      <th>Average Rating</th>\n",
       "      <th>Days Since Last Purchase</th>\n",
       "    </tr>\n",
       "  </thead>\n",
       "  <tbody>\n",
       "    <tr>\n",
       "      <th>count</th>\n",
       "      <td>348.000000</td>\n",
       "      <td>348.000000</td>\n",
       "      <td>348.000000</td>\n",
       "      <td>348.000000</td>\n",
       "      <td>348.000000</td>\n",
       "      <td>348.000000</td>\n",
       "    </tr>\n",
       "    <tr>\n",
       "      <th>mean</th>\n",
       "      <td>275.887931</td>\n",
       "      <td>33.577586</td>\n",
       "      <td>847.793103</td>\n",
       "      <td>12.632184</td>\n",
       "      <td>4.023563</td>\n",
       "      <td>26.614943</td>\n",
       "    </tr>\n",
       "    <tr>\n",
       "      <th>std</th>\n",
       "      <td>101.304611</td>\n",
       "      <td>4.878024</td>\n",
       "      <td>361.692375</td>\n",
       "      <td>4.146079</td>\n",
       "      <td>0.579145</td>\n",
       "      <td>13.474750</td>\n",
       "    </tr>\n",
       "    <tr>\n",
       "      <th>min</th>\n",
       "      <td>101.000000</td>\n",
       "      <td>26.000000</td>\n",
       "      <td>410.800000</td>\n",
       "      <td>7.000000</td>\n",
       "      <td>3.000000</td>\n",
       "      <td>9.000000</td>\n",
       "    </tr>\n",
       "    <tr>\n",
       "      <th>25%</th>\n",
       "      <td>188.750000</td>\n",
       "      <td>30.000000</td>\n",
       "      <td>505.750000</td>\n",
       "      <td>9.000000</td>\n",
       "      <td>3.500000</td>\n",
       "      <td>15.000000</td>\n",
       "    </tr>\n",
       "    <tr>\n",
       "      <th>50%</th>\n",
       "      <td>276.500000</td>\n",
       "      <td>32.000000</td>\n",
       "      <td>780.200000</td>\n",
       "      <td>12.000000</td>\n",
       "      <td>4.100000</td>\n",
       "      <td>23.000000</td>\n",
       "    </tr>\n",
       "    <tr>\n",
       "      <th>75%</th>\n",
       "      <td>363.250000</td>\n",
       "      <td>37.000000</td>\n",
       "      <td>1160.600000</td>\n",
       "      <td>15.000000</td>\n",
       "      <td>4.500000</td>\n",
       "      <td>38.000000</td>\n",
       "    </tr>\n",
       "    <tr>\n",
       "      <th>max</th>\n",
       "      <td>450.000000</td>\n",
       "      <td>43.000000</td>\n",
       "      <td>1520.100000</td>\n",
       "      <td>21.000000</td>\n",
       "      <td>4.900000</td>\n",
       "      <td>63.000000</td>\n",
       "    </tr>\n",
       "  </tbody>\n",
       "</table>\n",
       "</div>"
      ],
      "text/plain": [
       "       Customer ID         Age  Total Spend  Items Purchased  Average Rating  \\\n",
       "count   348.000000  348.000000   348.000000       348.000000      348.000000   \n",
       "mean    275.887931   33.577586   847.793103        12.632184        4.023563   \n",
       "std     101.304611    4.878024   361.692375         4.146079        0.579145   \n",
       "min     101.000000   26.000000   410.800000         7.000000        3.000000   \n",
       "25%     188.750000   30.000000   505.750000         9.000000        3.500000   \n",
       "50%     276.500000   32.000000   780.200000        12.000000        4.100000   \n",
       "75%     363.250000   37.000000  1160.600000        15.000000        4.500000   \n",
       "max     450.000000   43.000000  1520.100000        21.000000        4.900000   \n",
       "\n",
       "       Days Since Last Purchase  \n",
       "count                348.000000  \n",
       "mean                  26.614943  \n",
       "std                   13.474750  \n",
       "min                    9.000000  \n",
       "25%                   15.000000  \n",
       "50%                   23.000000  \n",
       "75%                   38.000000  \n",
       "max                   63.000000  "
      ]
     },
     "execution_count": 5,
     "metadata": {},
     "output_type": "execute_result"
    }
   ],
   "source": [
    "# Summary statistics for numerical features\n",
    "df.describe()"
   ]
  },
  {
   "cell_type": "markdown",
   "id": "1d0f3b0b",
   "metadata": {},
   "source": [
    "## 5. Check for Duplicates\n",
    "\n",
    "We'll check if there are any duplicate rows in the dataset."
   ]
  },
  {
   "cell_type": "code",
   "execution_count": 6,
   "id": "4d7e8eca",
   "metadata": {},
   "outputs": [
    {
     "data": {
      "text/plain": [
       "0"
      ]
     },
     "execution_count": 6,
     "metadata": {},
     "output_type": "execute_result"
    }
   ],
   "source": [
    "# Count duplicate rows\n",
    "df.duplicated().sum()"
   ]
  },
  {
   "cell_type": "markdown",
   "id": "e4a37024",
   "metadata": {},
   "source": [
    "## 6. Correlation Heatmap\n",
    "\n",
    "Visualize correlations among numerical features to identify potential relationships."
   ]
  },
  {
   "cell_type": "code",
   "execution_count": 8,
   "id": "a028e1ce",
   "metadata": {},
   "outputs": [
    {
     "data": {
      "image/png": "[encoded data removed]",
      "text/plain": [
       "<Figure size 576x432 with 2 Axes>"
      ]
     },
     "metadata": {
      "needs_background": "light"
     },
     "output_type": "display_data"
    }
   ],
   "source": [
    "# Select relevant numerical columns\n",
    "num_cols = [\"Age\", \"Total Spend\", \"Items Purchased\", \"Average Rating\", \"Days Since Last Purchase\"]\n",
    "\n",
    "# Compute correlation matrix\n",
    "corr = df[num_cols].corr()\n",
    "\n",
    "# Plot heatmap\n",
    "plt.figure(figsize=(8,6))\n",
    "sns.heatmap(corr, annot=True, cmap=\"magma\")\n",
    "plt.title(\"Correlation Heatmap of Numerical Features\")\n",
    "plt.show()"
   ]
  },
  {
   "cell_type": "markdown",
   "id": "22f8f8eb",
   "metadata": {},
   "source": [
    "## 7. Distribution of Satisfaction Level\n",
    "\n",
    "Let's see the count of each Satisfaction Level in the dataset."
   ]
  },
  {
   "cell_type": "code",
   "execution_count": 13,
   "id": "fa0735ec",
   "metadata": {},
   "outputs": [
    {
     "data": {
      "image/png": "[encoded data removed]",
      "text/plain": [
       "<Figure size 432x288 with 1 Axes>"
      ]
     },
     "metadata": {
      "needs_background": "light"
     },
     "output_type": "display_data"
    }
   ],
   "source": [
    "plt.figure(figsize=(6,4))\n",
    "sns.countplot(data=df, x=\"Satisfaction Level\", palette=\"Set1\")\n",
    "plt.title(\"Distribution of Satisfaction Level\")\n",
    "plt.xlabel(\"Satisfaction Level\")\n",
    "plt.ylabel(\"Count\")\n",
    "plt.show()"
   ]
  },
  {
   "cell_type": "markdown",
   "id": "ac9055c0",
   "metadata": {},
   "source": [
    "## 8. Age Distribution by Satisfaction Level\n",
    "\n",
    "Visualize how Age is distributed for each Satisfaction Level."
   ]
  },
  {
   "cell_type": "code",
   "execution_count": 16,
   "id": "ba554ab6",
   "metadata": {},
   "outputs": [
    {
     "data": {
      "image/png": "[encoded data removed]",
      "text/plain": [
       "<Figure size 1080x360 with 3 Axes>"
      ]
     },
     "metadata": {
      "needs_background": "light"
     },
     "output_type": "display_data"
    }
   ],
   "source": [
    "g = sns.FacetGrid(df, col=\"Satisfaction Level\", height=5)\n",
    "g.map(sns.histplot, \"Age\", bins=10, kde=True)\n",
    "g.fig.suptitle(\"Age Distribution by Satisfaction Level\", y=1.05)\n",
    "plt.show()"
   ]
  },
  {
   "cell_type": "markdown",
   "id": "a1fe33bd",
   "metadata": {},
   "source": [
    "## 9. Boxplot: Age by Satisfaction Level\n",
    "\n",
    "Compare Age distributions across Satisfaction Levels using a boxplot."
   ]
  },
  {
   "cell_type": "code",
   "execution_count": 10,
   "id": "f049299c",
   "metadata": {},
   "outputs": [
    {
     "data": {
      "image/png": "[encoded data removed]",
      "text/plain": [
       "<Figure size 504x360 with 1 Axes>"
      ]
     },
     "metadata": {
      "needs_background": "light"
     },
     "output_type": "display_data"
    }
   ],
   "source": [
    "plt.figure(figsize=(7,5))\n",
    "sns.boxplot(x=\"Satisfaction Level\", y=\"Age\", data=df, palette=\"Set3\")\n",
    "plt.title(\"Boxplot of Age by Satisfaction Level\")\n",
    "plt.show()"
   ]
  },
  {
   "cell_type": "markdown",
   "id": "95f235e0",
   "metadata": {},
   "source": [
    "## 10. Scatterplot: Age vs. Total Spend (Colored by Satisfaction)\n",
    "\n",
    "Explore the relationship between Age and Total Spend, colored by Satisfaction Level."
   ]
  },
  {
   "cell_type": "code",
   "execution_count": 11,
   "id": "9bf4e643",
   "metadata": {},
   "outputs": [
    {
     "data": {
      "image/png": "[encoded data removed]",
      "text/plain": [
       "<Figure size 576x432 with 1 Axes>"
      ]
     },
     "metadata": {
      "needs_background": "light"
     },
     "output_type": "display_data"
    }
   ],
   "source": [
    "plt.figure(figsize=(8,6))\n",
    "sns.scatterplot(data=df, x=\"Age\", y=\"Total Spend\", hue=\"Satisfaction Level\", palette=\"Set1\")\n",
    "plt.title(\"Age vs. Total Spend by Satisfaction Level\")\n",
    "plt.show()"
   ]
  },
  {
   "cell_type": "markdown",
   "id": "2cb81a81",
   "metadata": {},
   "source": [
    "## 11. Pairplot of Key Features by Satisfaction Level\n",
    "\n",
    "Visualize relationships between Age, Total Spend, and Average Rating, colored by Satisfaction Level."
   ]
  },
  {
   "cell_type": "code",
   "execution_count": 12,
   "id": "72dff45b",
   "metadata": {},
   "outputs": [
    {
     "data": {
      "image/png": "[encoded data removed]",
      "text/plain": [
       "<Figure size 636.25x540 with 12 Axes>"
      ]
     },
     "metadata": {
      "needs_background": "light"
     },
     "output_type": "display_data"
    }
   ],
   "source": [
    "sns.pairplot(df, hue=\"Satisfaction Level\", vars=[\"Age\", \"Total Spend\", \"Average Rating\"], palette=\"husl\")\n",
    "plt.suptitle(\"Pairplot of Age, Total Spend, and Average Rating by Satisfaction Level\", y=1.02)\n",
    "plt.show()"
   ]
  },
  {
   "cell_type": "markdown",
   "id": "66c547fe",
   "metadata": {},
   "source": [
    "## 12. Satisfaction Levels by Membership Type\n",
    "\n",
    "Visualize how satisfaction varies across different membership types."
   ]
  },
  {
   "cell_type": "code",
   "execution_count": 18,
   "id": "4d2995e8",
   "metadata": {},
   "outputs": [
    {
     "data": {
      "image/png": "[encoded data removed]",
      "text/plain": [
       "<Figure size 720x432 with 1 Axes>"
      ]
     },
     "metadata": {},
     "output_type": "display_data"
    }
   ],
   "source": [
    "import pandas as pd\n",
    "import matplotlib.pyplot as plt\n",
    "import seaborn as sns\n",
    "\n",
    "# Load dataset\n",
    "df = pd.read_csv(r\"C:\\Users\\HP\\Desktop\\TASK 4\\E-commerce Customer Behavior - Cleaned Version.csv\")\n",
    "\n",
    "# Set up the visual style\n",
    "sns.set(style=\"whitegrid\")\n",
    "\n",
    "# Create a count plot\n",
    "plt.figure(figsize=(10,6))\n",
    "sns.countplot(data=df, x='Membership Type', hue='Satisfaction Level',\n",
    "              palette='viridis', order=['Bronze', 'Silver', 'Gold'],\n",
    "              hue_order=['Unsatisfied', 'Neutral', 'Satisfied'])\n",
    "\n",
    "# Add titles and labels\n",
    "plt.title('Satisfaction Levels by Membership Type', fontsize=16)\n",
    "plt.xlabel('Membership Type')\n",
    "plt.ylabel('Number of Customers')\n",
    "plt.legend(title='Satisfaction Level')\n",
    "plt.tight_layout()\n",
    "plt.show()\n"
   ]
  },
  {
   "cell_type": "markdown",
   "id": "86026434",
   "metadata": {},
   "source": [
    "## 13. Distribution of Items Purchased by Satisfaction Level\n",
    "\n",
    "Visualize whether customers who purchase more items tend to be more satisfied."
   ]
  },
  {
   "cell_type": "code",
   "execution_count": 19,
   "id": "441c5b79",
   "metadata": {},
   "outputs": [
    {
     "data": {
      "image/png": "[encoded data removed]",
      "text/plain": [
       "<Figure size 576x360 with 1 Axes>"
      ]
     },
     "metadata": {
      "needs_background": "light"
     },
     "output_type": "display_data"
    },
    {
     "data": {
      "image/png": "[encoded data removed]",
      "text/plain": [
       "<Figure size 576x360 with 1 Axes>"
      ]
     },
     "metadata": {
      "needs_background": "light"
     },
     "output_type": "display_data"
    }
   ],
   "source": [
    "plt.figure(figsize=(8,5))\n",
    "sns.boxplot(x=\"Satisfaction Level\", y=\"Items Purchased\", data=df, palette=\"coolwarm\")\n",
    "plt.title(\"Items Purchased by Satisfaction Level\")\n",
    "plt.xlabel(\"Satisfaction Level\")\n",
    "plt.ylabel(\"Number of Items Purchased\")\n",
    "plt.show()\n",
    "\n",
    "plt.figure(figsize=(8,5))\n",
    "sns.histplot(data=df, x=\"Items Purchased\", hue=\"Satisfaction Level\", multiple=\"stack\", bins=15, palette=\"Set3\")\n",
    "plt.title(\"Distribution of Items Purchased by Satisfaction Level\")\n",
    "plt.xlabel(\"Items Purchased\")\n",
    "plt.ylabel(\"Count\")\n",
    "plt.show()"
   ]
  },
  {
   "cell_type": "markdown",
   "id": "1234d4a7",
   "metadata": {},
   "source": [
    "## 14. Age Group Segmentation: Satisfaction and Spend\n",
    "\n",
    "Segment customers into age bins and analyze satisfaction levels and average spend per group."
   ]
  },
  {
   "cell_type": "code",
   "execution_count": 17,
   "id": "c325b107",
   "metadata": {},
   "outputs": [
    {
     "data": {
      "image/png": "[encoded data removed]",
      "text/plain": [
       "<Figure size 576x360 with 1 Axes>"
      ]
     },
     "metadata": {
      "needs_background": "light"
     },
     "output_type": "display_data"
    }
   ],
   "source": [
    "# Create age bins and labels\n",
    "age_bins = [0, 24, 35, 45, 100]\n",
    "age_labels = ['<25', '25-35', '36-45', '46+']\n",
    "df['Age Group'] = pd.cut(df['Age'], bins=age_bins, labels=age_labels, right=True)\n",
    "\n",
    "# Countplot: Satisfaction Level by Age Group\n",
    "plt.figure(figsize=(8,5))\n",
    "sns.countplot(data=df, x='Age Group', hue='Satisfaction Level', palette='Set1')\n",
    "plt.title('Satisfaction Level by Age Group')\n",
    "plt.xlabel('Age Group')\n",
    "plt.ylabel('Count')\n",
    "plt.legend(title='Satisfaction Level')\n",
    "plt.show()\n"
   ]
  },
  {
   "cell_type": "code",
   "execution_count": 21,
   "id": "b214ec6b",
   "metadata": {},
   "outputs": [
    {
     "data": {
      "image/png": "[encoded data removed]",
      "text/plain": [
       "<Figure size 576x360 with 1 Axes>"
      ]
     },
     "metadata": {},
     "output_type": "display_data"
    }
   ],
   "source": [
    "# Barplot: Average Spend by Age Group\n",
    "plt.figure(figsize=(8,5))\n",
    "sns.barplot(data=df, x='Age Group', y='Total Spend', ci=None, palette='Blues')\n",
    "plt.title('Average Total Spend by Age Group')\n",
    "plt.xlabel('Age Group')\n",
    "plt.ylabel('Average Total Spend')\n",
    "plt.show()"
   ]
  },
  {
   "cell_type": "code",
   "execution_count": null,
   "id": "5ea714fa",
   "metadata": {},
   "outputs": [],
   "source": []
  }
 ],
 "metadata": {
  "kernelspec": {
   "display_name": "Python 3 (ipykernel)",
   "language": "python",
   "name": "python3"
  },
  "language_info": {
   "codemirror_mode": {
    "name": "ipython",
    "version": 3
   },
   "file_extension": ".py",
   "mimetype": "text/x-python",
   "name": "python",
   "nbconvert_exporter": "python",
   "pygments_lexer": "ipython3",
   "version": "3.9.12"
  }
 },
 "nbformat": 4,
 "nbformat_minor": 5
}
